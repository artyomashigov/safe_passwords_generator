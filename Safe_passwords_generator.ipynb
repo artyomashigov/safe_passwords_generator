{
 "cells": [
  {
   "cell_type": "code",
   "execution_count": null,
   "id": "9162fd81",
   "metadata": {},
   "outputs": [],
   "source": [
    "#Эта программа генерирует пароли в зависимости от длины и количества паролей, которые хочет создать ползователь.\n",
    "# В зависимости выбора пользователя генератор может включать или пропускать специальные символы, строчные и прописные буквы,\n",
    "# а также цифры\n",
    "\n",
    "from random import *\n",
    "digits ='0123456789'\n",
    "lowercase_letters = 'abcdefghijklmnopqrstuvwxyz'\n",
    "uppercase_letters = 'ABCDEFGHIJKLMNOPQRSTUVWXYZ'\n",
    "punctuation = '!#$%&*+-=?@^_.'\n",
    "chars =''\n",
    "\n",
    "while True:\n",
    "    count = int(input('Укажите количество паролей для генерации:'))\n",
    "    length = int(input('Укажите длину одного пароля:'))\n",
    "    digit = input('Включать ли цифры 0123456789? (yes/no)')\n",
    "    ABC = input('Включать ли прописные буквы ABCDEFGHIJKLMNOPQRSTUVWXYZ? (yes/no)')\n",
    "    abc = input('Включать ли строчные буквы abcdefghijklmnopqrstuvwxyz? ((yes/no)')\n",
    "    characters = input('Включать ли символы !#$%&*+-=?@^_? (yes/no)')\n",
    "    chars=''\n",
    "    if digit =='yes':\n",
    "        chars += digits\n",
    "    if ABC =='yes':\n",
    "        chars += uppercase_letters   \n",
    "    if abc =='yes':\n",
    "        chars += lowercase_letters\n",
    "    if characters =='yes':\n",
    "        chars += punctuation\n",
    "    def generate_password(chars,length):\n",
    "        return sample(chars,length)\n",
    "    for i in range(count):\n",
    "        print(*generate_password(chars,length),sep='')\n",
    "    print()\n",
    "    a= input('Хотите ли начать заново? ')\n",
    "    if a =='yes':\n",
    "        print()\n",
    "        continue\n",
    "    else:\n",
    "        print('Спасибо за участие')\n",
    "        break\n",
    "    "
   ]
  },
  {
   "cell_type": "code",
   "execution_count": null,
   "id": "56a19305",
   "metadata": {},
   "outputs": [],
   "source": []
  }
 ],
 "metadata": {
  "kernelspec": {
   "display_name": "Python 3 (ipykernel)",
   "language": "python",
   "name": "python3"
  },
  "language_info": {
   "codemirror_mode": {
    "name": "ipython",
    "version": 3
   },
   "file_extension": ".py",
   "mimetype": "text/x-python",
   "name": "python",
   "nbconvert_exporter": "python",
   "pygments_lexer": "ipython3",
   "version": "3.9.7"
  }
 },
 "nbformat": 4,
 "nbformat_minor": 5
}
